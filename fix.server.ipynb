{
 "cells": [
  {
   "cell_type": "code",
   "execution_count": 3,
   "metadata": {},
   "outputs": [
    {
     "name": "stdout",
     "output_type": "stream",
     "text": [
      "Session created with ID: FIX.4.4:SERVER->CLIENT\n"
     ]
    }
   ],
   "source": [
    "\n",
    "#%pip install quickfix\n",
    "import quickfix as fix\n",
    "\n",
    "class FixApplication(fix.Application):\n",
    "    def onCreate(self, sessionID):\n",
    "        self.sessionID = sessionID\n",
    "        print(f\"Session created with ID: {sessionID}\")\n",
    "\n",
    "    def onLogon(self, sessionID):\n",
    "        print(f\"\\nLogon successful for session: {sessionID}\")\n",
    "\n",
    "    def onLogout(self, sessionID):\n",
    "        print(f\"\\nLogout successful for session: {sessionID}\")\n",
    "\n",
    "    def toAdmin(self, message, sessionID):\n",
    "        msgType = fix.MsgType()\n",
    "        message.getHeader().getField(msgType)\n",
    "        print(f\"\\nSending Admin message of type {msgType.getValue()}: {message}\")\n",
    "\n",
    "    def fromAdmin(self, message, sessionID):\n",
    "        msgType = fix.MsgType()\n",
    "        message.getHeader().getField(msgType)\n",
    "        print(f\"\\nReceived Admin message of type {msgType.getValue()}: {message}\")\n",
    "\n",
    "    def toApp(self, message, sessionID):\n",
    "        msgType = fix.MsgType()\n",
    "        message.getHeader().getField(msgType)\n",
    "        print(f\"\\nSending App message of type {msgType.getValue()}: {message}\")\n",
    "\n",
    "    def fromApp(self, message, sessionID):\n",
    "        msgType = fix.MsgType()\n",
    "        message.getHeader().getField(msgType)\n",
    "        print(f\"\\nReceived App message of type {msgType.getValue()}: {message}\")\n",
    "\n",
    "    def sendTestMessage(self):\n",
    "        testMessage = fix44.Heartbeat()\n",
    "        testMessage.setField(fix.TestReqID(\"TEST\"))\n",
    "        fix.Session.sendToTarget(testMessage, self.sessionID)\n",
    "        print(f\"\\nTest message sent: {testMessage}\")\n",
    "\n",
    "def main(config_file):\n",
    "    # Create the application, store factory, and log factory\n",
    "    application = FixApplication()\n",
    "    settings = fix.SessionSettings(config_file)\n",
    "    storeFactory = fix.FileStoreFactory(settings)\n",
    "    logFactory = fix.FileLogFactory(settings)\n",
    "\n",
    "    # Create an acceptor\n",
    "    acceptor = fix.SocketAcceptor(application, storeFactory, settings, logFactory)\n",
    "\n",
    "    # Start the acceptor\n",
    "    acceptor.start()\n",
    "\n",
    "    # Wait for a signal to quit the application\n",
    "    input(\"Press <ENTER> to quit\\n\")\n",
    "\n",
    "    # Stop the acceptor\n",
    "    acceptor.stop()\n",
    "\n",
    "if __name__ == \"__main__\":\n",
    "    config_file = \"fixserver.cfg\"\n",
    "    main(config_file)"
   ]
  },
  {
   "cell_type": "code",
   "execution_count": null,
   "metadata": {},
   "outputs": [],
   "source": []
  }
 ],
 "metadata": {
  "kernelspec": {
   "display_name": "Python 3",
   "language": "python",
   "name": "python3"
  },
  "language_info": {
   "codemirror_mode": {
    "name": "ipython",
    "version": 3
   },
   "file_extension": ".py",
   "mimetype": "text/x-python",
   "name": "python",
   "nbconvert_exporter": "python",
   "pygments_lexer": "ipython3",
   "version": "3.9.6"
  }
 },
 "nbformat": 4,
 "nbformat_minor": 2
}
